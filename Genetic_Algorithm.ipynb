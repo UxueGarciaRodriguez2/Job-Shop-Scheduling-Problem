{
 "cells": [
  {
   "cell_type": "code",
   "execution_count": 1,
   "metadata": {},
   "outputs": [],
   "source": [
    "import random\n",
    "from genetic_functions import *"
   ]
  },
  {
   "cell_type": "markdown",
   "metadata": {
    "vscode": {
     "languageId": "plaintext"
    }
   },
   "source": [
    "#### LOAD THE DATA"
   ]
  },
  {
   "cell_type": "code",
   "execution_count": null,
   "metadata": {},
   "outputs": [],
   "source": [
    "file_path = \"data/jobshop1.txt\"  \n",
    "\n",
    "#Three instances with differences in jobs and machines are selected for testing in different populations\n",
    "instances_to_extract = [\"ft06\", \"abz5\", \"abz7\"]\n",
    "\n",
    "instances = extract_instances_to_dict(file_path, instances_to_extract)\n",
    "\n",
    "# Check\n",
    "if not instances:\n",
    "    print(\"No instances were extracted. Check the names in instances_to_extract and the source file.\")\n",
    "else:\n",
    "    for instance_name, instance_data in instances.items():\n",
    "        print(f\"instance: {instance_name}\")\n",
    "        print(f\"Number of jobs: {instance_data['num_jobs']}\")\n",
    "        print(f\"Number of machines: {instance_data['num_machines']}\")\n",
    "        print(\"Time matrix:\")\n",
    "        for row in instance_data[\"processing_times\"]:\n",
    "            print(row)\n",
    "        print(\"------\")"
   ]
  },
  {
   "cell_type": "code",
   "execution_count": 4,
   "metadata": {},
   "outputs": [],
   "source": [
    "ft06_data = instances[\"ft06\"]\n",
    "abz5_data = instances[\"abz5\"]"
   ]
  },
  {
   "cell_type": "code",
   "execution_count": 5,
   "metadata": {},
   "outputs": [
    {
     "data": {
      "text/plain": [
       "{'num_jobs': 6,\n",
       " 'num_machines': 6,\n",
       " 'processing_times': [[2, 1, 0, 3, 1, 6, 3, 7, 5, 3, 4, 6],\n",
       "  [1, 8, 2, 5, 4, 10, 5, 10, 0, 10, 3, 4],\n",
       "  [2, 5, 3, 4, 5, 8, 0, 9, 1, 1, 4, 7],\n",
       "  [1, 5, 0, 5, 2, 5, 3, 3, 4, 8, 5, 9],\n",
       "  [2, 9, 1, 3, 4, 5, 5, 4, 0, 3, 3, 1],\n",
       "  [1, 3, 3, 3, 5, 9, 0, 10, 4, 4, 2, 1]]}"
      ]
     },
     "execution_count": 5,
     "metadata": {},
     "output_type": "execute_result"
    }
   ],
   "source": [
    "ft06_data"
   ]
  },
  {
   "cell_type": "markdown",
   "metadata": {},
   "source": [
    "### Chromosome encoding"
   ]
  },
  {
   "cell_type": "markdown",
   "metadata": {},
   "source": [
    "### Validation of the chromosome"
   ]
  },
  {
   "cell_type": "markdown",
   "metadata": {},
   "source": [
    "### Compute the fitness"
   ]
  },
  {
   "cell_type": "code",
   "execution_count": 9,
   "metadata": {},
   "outputs": [
    {
     "name": "stdout",
     "output_type": "stream",
     "text": [
      "Cromosoma generado: [5, 3, 0, 1, 5, 4, 4, 5, 1, 2, 4, 4, 0, 4, 5, 2, 4, 3, 2, 3, 0, 1, 0, 0, 1, 1, 2, 3, 1, 5, 3, 3, 5, 2, 2, 0]\n",
      "36\n",
      "Makespan (fitness) de la solución: 85\n"
     ]
    }
   ],
   "source": [
    "# Datos de entrada\n",
    "num_jobs = ft06_data['num_jobs']\n",
    "num_machines = ft06_data['num_machines']\n",
    "processing_times = ft06_data['processing_times']\n",
    "\n",
    "chromosome = generate_chromosome(num_jobs, num_machines)\n",
    "print(\"Cromosoma generado:\", chromosome)\n",
    "print(len(chromosome))\n",
    "\n",
    "# Calcular el fitness con validación\n",
    "fitness = compute_fitness_with_validation(chromosome, num_jobs, num_machines, processing_times)\n",
    "if fitness == float('inf'):\n",
    "    print(\"El cromosoma no es válido.\")\n",
    "else:\n",
    "    print(\"Makespan (fitness) de la solución:\", fitness)\n"
   ]
  },
  {
   "cell_type": "markdown",
   "metadata": {},
   "source": [
    "### Genetic Operators"
   ]
  },
  {
   "cell_type": "markdown",
   "metadata": {},
   "source": [
    "#### Turnament selection"
   ]
  },
  {
   "cell_type": "code",
   "execution_count": 64,
   "metadata": {},
   "outputs": [
    {
     "name": "stdout",
     "output_type": "stream",
     "text": [
      "Cromosoma seleccionado: [0, 4, 4, 1, 0, 4, 3, 5, 5, 0, 2, 1, 0, 3, 5, 1, 2, 2, 4, 5, 2, 1, 3, 0, 1, 2, 3, 1, 5, 5, 4, 3, 3, 2, 4, 0]\n",
      "Cromosoma seleccionado: [1, 5, 5, 3, 5, 1, 2, 4, 3, 1, 3, 0, 3, 2, 0, 5, 0, 5, 1, 4, 2, 0, 4, 0, 3, 1, 1, 2, 2, 4, 4, 3, 4, 0, 2, 5]\n"
     ]
    }
   ],
   "source": [
    "num_jobs = ft06_data['num_jobs']\n",
    "num_machines = ft06_data['num_machines']\n",
    "processing_times = ft06_data['processing_times']\n",
    "population = [generate_chromosome(num_jobs, num_machines) for _ in range(100)]\n",
    "fitness_values = [compute_fitness_with_validation(ind, num_jobs, num_machines, processing_times) for ind in population]\n",
    "\n",
    "selected_roulette = roulette_selection(population, fitness_values)\n",
    "print(\"Cromosoma seleccionado:\", selected_roulette)\n",
    "\n",
    "selected_tournament = tournament_selection(population, fitness_values)\n",
    "print(\"Cromosoma seleccionado:\", selected_tournament)"
   ]
  },
  {
   "cell_type": "markdown",
   "metadata": {},
   "source": [
    "#### Crossover"
   ]
  },
  {
   "cell_type": "code",
   "execution_count": 59,
   "metadata": {},
   "outputs": [
    {
     "name": "stdout",
     "output_type": "stream",
     "text": [
      "Hijo (crossover de un punto): [4, 3, 1, 1, 5, 5, 5, 1, 0, 2, 5, 4, 2, 5, 3, 4, 2, 0, 5, 0, 2, 4, 0, 1, 3, 3, 2, 3, 0, 5, 1, 1, 2, 5, 0, 4]\n",
      "[4, 3, 1, 1, 5, 5, 5, 1, 4, 0, 2, 3, 2, 3, 1, 5, 3, 1, 0, 5, 0, 4, 2, 2, 1, 4, 3, 2, 4, 2, 0, 3, 5, 0, 0, 4]\n"
     ]
    }
   ],
   "source": [
    "# Cromosomas de ejemplo\n",
    "parent1 = [4, 3, 1, 1, 5, 5, 5, 1, 4, 0, 2, 3, 2, 3, 1, 5, 3, 1, 0, 5, 0, 4, 2, 2, 1, 4, 3, 2, 4, 2, 0, 3, 5, 0, 0, 4]\n",
    "parent2 = [3, 5, 1, 4, 1, 3, 4, 1, 0, 2, 5, 4, 2, 5, 3, 4, 2, 0, 5, 0, 2, 4, 0, 1, 3, 3, 2, 3, 0, 5, 1, 1, 2, 5, 0, 4]\n",
    "\n",
    "# Crossover de un punto\n",
    "child_one_point = one_point_crossover(parent1, parent2)\n",
    "print(\"Hijo (crossover de un punto):\", child_one_point)\n",
    "\n",
    "# Crossover de dos puntos\n",
    "child = cycle_crossover(parent1, parent2)\n",
    "print(child)\n"
   ]
  },
  {
   "cell_type": "markdown",
   "metadata": {},
   "source": [
    "#### Mutation"
   ]
  },
  {
   "cell_type": "code",
   "execution_count": 48,
   "metadata": {},
   "outputs": [
    {
     "name": "stdout",
     "output_type": "stream",
     "text": [
      "Cromosoma después de mutación por rotación: [2, 6, 7, 8, 1, 5, 3, 4] [1, 5, 3, 4, 2, 6, 7, 8]\n"
     ]
    }
   ],
   "source": [
    "# Cromosoma de ejemplo\n",
    "cromosoma = [1, 2, 3, 4, 5, 6, 7, 8]\n",
    "\n",
    "# Mutación por rotación\n",
    "cromo = mutation(cromosoma)\n",
    "cromosoma_mutado = mutate_rotation(cromosoma.copy())\n",
    "print(\"Cromosoma después de mutación por rotación:\", cromosoma_mutado, cromo)\n"
   ]
  },
  {
   "cell_type": "markdown",
   "metadata": {},
   "source": [
    "# Genetic algorithm"
   ]
  },
  {
   "cell_type": "code",
   "execution_count": 44,
   "metadata": {},
   "outputs": [],
   "source": [
    "def genetic_algorithm(data, population_size=20, crossover_prob=0.8, mutation_prob=0.2, max_generations=100, no_improve_limit=10):\n",
    "    num_jobs = data['num_jobs']\n",
    "    num_machines = data['num_machines']\n",
    "    processing_times = data['processing_times']\n",
    "\n",
    "    # Inicializar población aleatoria\n",
    "    population = [generate_chromosome(num_jobs, num_machines) for _ in range(population_size)]\n",
    "\n",
    "    print(len(population))\n",
    "\n",
    "    # Evaluar la población inicial\n",
    "    fitness_values = [compute_fitness_with_validation(ind, num_jobs, num_machines, processing_times) for ind in population]\n",
    "    print(len(fitness_values))\n",
    "    best_fitness = min(fitness_values)\n",
    "    best_solution = population[fitness_values.index(best_fitness)]\n",
    "    print(best_solution)\n",
    "    no_improve_count = 0\n",
    "\n",
    "    for generation in range(max_generations):\n",
    "        new_population = []\n",
    "\n",
    "        # Generar nueva población\n",
    "        while len(new_population) < population_size:\n",
    "            # Selección de padres\n",
    "            parent1 = tournament_selection(population, fitness_values)\n",
    "            parent2 = tournament_selection(population, fitness_values)\n",
    "\n",
    "            # Cruce\n",
    "            if random.random() < crossover_prob:\n",
    "                child = crossover(parent1, parent2, num_jobs)\n",
    "                print(child)\n",
    "            else:\n",
    "                child = parent1\n",
    "\n",
    "            # Mutación\n",
    "            if random.random() < mutation_prob:\n",
    "                child = mutation(child)\n",
    "\n",
    "            new_population.append(child)\n",
    "\n",
    "        # Evaluar la nueva población\n",
    "        population = new_population\n",
    "        fitness_values = [compute_fitness_with_validation(ind, num_jobs, num_machines, processing_times) for ind in population]\n",
    "\n",
    "        # Actualizar mejor solución\n",
    "        current_best_fitness = min(fitness_values)\n",
    "        if current_best_fitness < best_fitness:\n",
    "            best_fitness = current_best_fitness\n",
    "            best_solution = population[fitness_values.index(current_best_fitness)]\n",
    "            no_improve_count = 0\n",
    "        else:\n",
    "            no_improve_count += 1\n",
    "\n",
    "        # Criterio de convergencia\n",
    "        if no_improve_count >= no_improve_limit:\n",
    "            print(f\"Convergencia alcanzada después de {generation + 1} generaciones.\")\n",
    "            break\n",
    "\n",
    "        # Imprimir progreso\n",
    "        print(f\"Generación {generation + 1}: Mejor fitness = {best_fitness}\")\n",
    "\n",
    "    return best_solution, best_fitness"
   ]
  },
  {
   "cell_type": "code",
   "execution_count": 45,
   "metadata": {},
   "outputs": [
    {
     "name": "stdout",
     "output_type": "stream",
     "text": [
      "50\n",
      "50\n",
      "[2, 4, 3, 3, 5, 4, 1, 5, 5, 3, 0, 0, 2, 1, 0, 4, 3, 2, 1, 5, 3, 0, 2, 4, 4, 4, 5, 2, 1, 0, 1, 2, 1, 3, 0, 5]\n"
     ]
    },
    {
     "ename": "IndexError",
     "evalue": "list index out of range",
     "output_type": "error",
     "traceback": [
      "\u001b[1;31m---------------------------------------------------------------------------\u001b[0m",
      "\u001b[1;31mIndexError\u001b[0m                                Traceback (most recent call last)",
      "\u001b[1;32m~\\AppData\\Local\\Temp/ipykernel_19352/4068265507.py\u001b[0m in \u001b[0;36m<module>\u001b[1;34m\u001b[0m\n\u001b[1;32m----> 1\u001b[1;33m \u001b[0mbest_solution\u001b[0m\u001b[1;33m,\u001b[0m \u001b[0mbest_fitness\u001b[0m \u001b[1;33m=\u001b[0m \u001b[0mgenetic_algorithm\u001b[0m\u001b[1;33m(\u001b[0m\u001b[0mft06_data\u001b[0m\u001b[1;33m,\u001b[0m \u001b[0mpopulation_size\u001b[0m\u001b[1;33m=\u001b[0m\u001b[1;36m50\u001b[0m\u001b[1;33m,\u001b[0m \u001b[0mcrossover_prob\u001b[0m\u001b[1;33m=\u001b[0m\u001b[1;36m0.9\u001b[0m\u001b[1;33m,\u001b[0m \u001b[0mmutation_prob\u001b[0m\u001b[1;33m=\u001b[0m\u001b[1;36m0.1\u001b[0m\u001b[1;33m)\u001b[0m\u001b[1;33m\u001b[0m\u001b[1;33m\u001b[0m\u001b[0m\n\u001b[0m\u001b[0;32m      2\u001b[0m \u001b[0mprint\u001b[0m\u001b[1;33m(\u001b[0m\u001b[1;34m\"Mejor solución encontrada:\"\u001b[0m\u001b[1;33m,\u001b[0m \u001b[0mbest_solution\u001b[0m\u001b[1;33m)\u001b[0m\u001b[1;33m\u001b[0m\u001b[1;33m\u001b[0m\u001b[0m\n\u001b[0;32m      3\u001b[0m \u001b[0mprint\u001b[0m\u001b[1;33m(\u001b[0m\u001b[1;34m\"Makespan (fitness) de la mejor solución:\"\u001b[0m\u001b[1;33m,\u001b[0m \u001b[0mbest_fitness\u001b[0m\u001b[1;33m)\u001b[0m\u001b[1;33m\u001b[0m\u001b[1;33m\u001b[0m\u001b[0m\n",
      "\u001b[1;32m~\\AppData\\Local\\Temp/ipykernel_19352/2016857439.py\u001b[0m in \u001b[0;36mgenetic_algorithm\u001b[1;34m(data, population_size, crossover_prob, mutation_prob, max_generations, no_improve_limit)\u001b[0m\n\u001b[0;32m     28\u001b[0m             \u001b[1;31m# Cruce\u001b[0m\u001b[1;33m\u001b[0m\u001b[1;33m\u001b[0m\u001b[1;33m\u001b[0m\u001b[0m\n\u001b[0;32m     29\u001b[0m             \u001b[1;32mif\u001b[0m \u001b[0mrandom\u001b[0m\u001b[1;33m.\u001b[0m\u001b[0mrandom\u001b[0m\u001b[1;33m(\u001b[0m\u001b[1;33m)\u001b[0m \u001b[1;33m<\u001b[0m \u001b[0mcrossover_prob\u001b[0m\u001b[1;33m:\u001b[0m\u001b[1;33m\u001b[0m\u001b[1;33m\u001b[0m\u001b[0m\n\u001b[1;32m---> 30\u001b[1;33m                 \u001b[0mchild\u001b[0m \u001b[1;33m=\u001b[0m \u001b[0mcrossover\u001b[0m\u001b[1;33m(\u001b[0m\u001b[0mparent1\u001b[0m\u001b[1;33m,\u001b[0m \u001b[0mparent2\u001b[0m\u001b[1;33m,\u001b[0m \u001b[0mnum_jobs\u001b[0m\u001b[1;33m)\u001b[0m\u001b[1;33m\u001b[0m\u001b[1;33m\u001b[0m\u001b[0m\n\u001b[0m\u001b[0;32m     31\u001b[0m                 \u001b[0mprint\u001b[0m\u001b[1;33m(\u001b[0m\u001b[0mchild\u001b[0m\u001b[1;33m)\u001b[0m\u001b[1;33m\u001b[0m\u001b[1;33m\u001b[0m\u001b[0m\n\u001b[0;32m     32\u001b[0m             \u001b[1;32melse\u001b[0m\u001b[1;33m:\u001b[0m\u001b[1;33m\u001b[0m\u001b[1;33m\u001b[0m\u001b[0m\n",
      "\u001b[1;32m~\\AppData\\Local\\Temp/ipykernel_19352/2948725441.py\u001b[0m in \u001b[0;36mcrossover\u001b[1;34m(parent1, parent2, num_jobs)\u001b[0m\n\u001b[0;32m     17\u001b[0m         \u001b[1;32mif\u001b[0m \u001b[0mchild\u001b[0m\u001b[1;33m[\u001b[0m\u001b[0mi\u001b[0m\u001b[1;33m]\u001b[0m \u001b[1;32mis\u001b[0m \u001b[1;32mNone\u001b[0m\u001b[1;33m:\u001b[0m\u001b[1;33m\u001b[0m\u001b[1;33m\u001b[0m\u001b[0m\n\u001b[0;32m     18\u001b[0m             \u001b[1;31m# Busca un gen del segundo padre que no esté ya en el hijo\u001b[0m\u001b[1;33m\u001b[0m\u001b[1;33m\u001b[0m\u001b[1;33m\u001b[0m\u001b[0m\n\u001b[1;32m---> 19\u001b[1;33m             \u001b[1;32mwhile\u001b[0m \u001b[0mparent2\u001b[0m\u001b[1;33m[\u001b[0m\u001b[0mpointer\u001b[0m\u001b[1;33m]\u001b[0m \u001b[1;32min\u001b[0m \u001b[0mchild\u001b[0m\u001b[1;33m[\u001b[0m\u001b[0mstart\u001b[0m\u001b[1;33m:\u001b[0m\u001b[0mend\u001b[0m\u001b[1;33m]\u001b[0m\u001b[1;33m:\u001b[0m\u001b[1;33m\u001b[0m\u001b[1;33m\u001b[0m\u001b[0m\n\u001b[0m\u001b[0;32m     20\u001b[0m                 \u001b[0mpointer\u001b[0m \u001b[1;33m+=\u001b[0m \u001b[1;36m1\u001b[0m\u001b[1;33m\u001b[0m\u001b[1;33m\u001b[0m\u001b[0m\n\u001b[0;32m     21\u001b[0m             \u001b[0mchild\u001b[0m\u001b[1;33m[\u001b[0m\u001b[0mi\u001b[0m\u001b[1;33m]\u001b[0m \u001b[1;33m=\u001b[0m \u001b[0mparent2\u001b[0m\u001b[1;33m[\u001b[0m\u001b[0mpointer\u001b[0m\u001b[1;33m]\u001b[0m\u001b[1;33m\u001b[0m\u001b[1;33m\u001b[0m\u001b[0m\n",
      "\u001b[1;31mIndexError\u001b[0m: list index out of range"
     ]
    }
   ],
   "source": [
    "best_solution, best_fitness = genetic_algorithm(ft06_data, population_size=50, crossover_prob=0.9, mutation_prob=0.1)\n",
    "print(\"Mejor solución encontrada:\", best_solution)\n",
    "print(\"Makespan (fitness) de la mejor solución:\", best_fitness)"
   ]
  },
  {
   "cell_type": "code",
   "execution_count": null,
   "metadata": {},
   "outputs": [],
   "source": []
  },
  {
   "cell_type": "code",
   "execution_count": null,
   "metadata": {},
   "outputs": [],
   "source": []
  }
 ],
 "metadata": {
  "kernelspec": {
   "display_name": "base",
   "language": "python",
   "name": "python3"
  },
  "language_info": {
   "codemirror_mode": {
    "name": "ipython",
    "version": 3
   },
   "file_extension": ".py",
   "mimetype": "text/x-python",
   "name": "python",
   "nbconvert_exporter": "python",
   "pygments_lexer": "ipython3",
   "version": "3.8.8"
  }
 },
 "nbformat": 4,
 "nbformat_minor": 2
}
