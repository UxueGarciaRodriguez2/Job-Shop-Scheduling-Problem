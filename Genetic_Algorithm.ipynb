{
 "cells": [
  {
   "cell_type": "markdown",
   "metadata": {
    "vscode": {
     "languageId": "plaintext"
    }
   },
   "source": [
    "#### LOAD THE DATA"
   ]
  },
  {
   "cell_type": "code",
   "execution_count": 1,
   "metadata": {},
   "outputs": [],
   "source": [
    "def extract_instances_to_dict(file_path, instances_to_extract):\n",
    "    \"\"\"\n",
    "    Extracts and organizes specific instances of a file.\n",
    "\n",
    "    param file_path: Path to the input file.\n",
    "    param instances_to_extract_instances: List of names of instances to extract.\n",
    "    return: Dictionary with the extracted instances.\n",
    "    \"\"\"\n",
    "    instances_dict = {}\n",
    "    current_instance = None\n",
    "    instance_data = []\n",
    "\n",
    "    with open(file_path, \"r\") as file:\n",
    "        data = file.readlines()\n",
    "\n",
    "    for line in data:\n",
    "        line = line.strip()  # Eliminate blank spaces\n",
    "\n",
    "        ## Skip lines with +++++++++++++++++++++\n",
    "        if line.startswith(\"+++++++++++++++++++++++++++++\") or not line:\n",
    "            continue\n",
    "        \n",
    "        # Start of an instance\n",
    "        if line.startswith(\"instance\"):\n",
    "            if current_instance:\n",
    "                if current_instance in instances_to_extract:\n",
    "                    instances_dict[current_instance] = parse_instance(instance_data)\n",
    "            current_instance = line.split()[1].strip()  # name of the instance\n",
    "            instance_data = [] \n",
    "        else:\n",
    "            if current_instance:\n",
    "                instance_data.append(line)  \n",
    "\n",
    "    # Save the last instance processed if matches\n",
    "    if current_instance and current_instance in instances_to_extract:\n",
    "        instances_dict[current_instance] = parse_instance(instance_data)\n",
    "\n",
    "    return instances_dict\n",
    "\n",
    "\n",
    "def parse_instance(instance_data):\n",
    "    \"\"\"\n",
    "    Converts the instance data into a structured format.\n",
    "\n",
    "    param instance_data: List of lines with the instance data.\n",
    "    return: Dictionary with the dimensions and the time matrix.\n",
    "    \"\"\"\n",
    "    # Extract dimensions\n",
    "    dimensions = instance_data[1].split()\n",
    "    num_jobs = int(dimensions[0])  # N of jobs\n",
    "    num_machines = int(dimensions[1])  # N of machines\n",
    "\n",
    "    # Times\n",
    "    processing_times = []\n",
    "    for line in instance_data[2:]:\n",
    "        row = list(map(int, line.split()))\n",
    "        processing_times.append(row)\n",
    "\n",
    "    return {\n",
    "        \"num_jobs\": num_jobs,\n",
    "        \"num_machines\": num_machines,\n",
    "        \"processing_times\": processing_times\n",
    "    }\n",
    "\n"
   ]
  },
  {
   "cell_type": "code",
   "execution_count": 2,
   "metadata": {},
   "outputs": [
    {
     "name": "stdout",
     "output_type": "stream",
     "text": [
      "instance: abz5\n",
      "Number of jobs: 10\n",
      "Number of machines: 10\n",
      "Time matrix:\n",
      "[4, 88, 8, 68, 6, 94, 5, 99, 1, 67, 2, 89, 9, 77, 7, 99, 0, 86, 3, 92]\n",
      "[5, 72, 3, 50, 6, 69, 4, 75, 2, 94, 8, 66, 0, 92, 1, 82, 7, 94, 9, 63]\n",
      "[9, 83, 8, 61, 0, 83, 1, 65, 6, 64, 5, 85, 7, 78, 4, 85, 2, 55, 3, 77]\n",
      "[7, 94, 2, 68, 1, 61, 4, 99, 3, 54, 6, 75, 5, 66, 0, 76, 9, 63, 8, 67]\n",
      "[3, 69, 4, 88, 9, 82, 8, 95, 0, 99, 2, 67, 6, 95, 5, 68, 7, 67, 1, 86]\n",
      "[1, 99, 4, 81, 5, 64, 6, 66, 8, 80, 2, 80, 7, 69, 9, 62, 3, 79, 0, 88]\n",
      "[7, 50, 1, 86, 4, 97, 3, 96, 0, 95, 8, 97, 2, 66, 5, 99, 6, 52, 9, 71]\n",
      "[4, 98, 6, 73, 3, 82, 2, 51, 1, 71, 5, 94, 7, 85, 0, 62, 8, 95, 9, 79]\n",
      "[0, 94, 6, 71, 3, 81, 7, 85, 1, 66, 2, 90, 4, 76, 5, 58, 8, 93, 9, 97]\n",
      "[3, 50, 0, 59, 1, 82, 8, 67, 7, 56, 9, 96, 6, 58, 4, 81, 5, 59, 2, 96]\n",
      "------\n",
      "instance: abz7\n",
      "Number of jobs: 20\n",
      "Number of machines: 15\n",
      "Time matrix:\n",
      "[2, 24, 3, 12, 9, 17, 4, 27, 0, 21, 6, 25, 8, 27, 7, 26, 1, 30, 5, 31, 11, 18, 14, 16, 13, 39, 10, 19, 12, 26]\n",
      "[6, 30, 3, 15, 12, 20, 11, 19, 1, 24, 13, 15, 10, 28, 2, 36, 5, 26, 7, 15, 0, 11, 8, 23, 14, 20, 9, 26, 4, 28]\n",
      "[6, 35, 0, 22, 13, 23, 7, 32, 2, 20, 3, 12, 12, 19, 10, 23, 9, 17, 1, 14, 5, 16, 11, 29, 8, 16, 4, 22, 14, 22]\n",
      "[9, 20, 6, 29, 1, 19, 7, 14, 12, 33, 4, 30, 0, 32, 5, 21, 11, 29, 10, 24, 14, 25, 2, 29, 3, 13, 8, 20, 13, 18]\n",
      "[11, 23, 13, 20, 1, 28, 6, 32, 7, 16, 5, 18, 8, 24, 9, 23, 3, 24, 10, 34, 2, 24, 0, 24, 14, 28, 12, 15, 4, 18]\n",
      "[8, 24, 11, 19, 14, 21, 1, 33, 7, 34, 6, 35, 5, 40, 10, 36, 3, 23, 2, 26, 4, 15, 9, 28, 13, 38, 12, 13, 0, 25]\n",
      "[13, 27, 3, 30, 6, 21, 8, 19, 12, 12, 4, 27, 2, 39, 9, 13, 14, 12, 5, 36, 10, 21, 11, 17, 1, 29, 0, 17, 7, 33]\n",
      "[5, 27, 4, 19, 6, 29, 9, 20, 3, 21, 10, 40, 8, 14, 14, 39, 13, 39, 2, 27, 1, 36, 12, 12, 11, 37, 7, 22, 0, 13]\n",
      "[13, 32, 11, 29, 8, 24, 3, 27, 5, 40, 4, 21, 9, 26, 0, 27, 14, 27, 6, 16, 2, 21, 10, 13, 7, 28, 12, 28, 1, 32]\n",
      "[12, 35, 1, 11, 5, 39, 14, 18, 7, 23, 0, 34, 3, 24, 13, 11, 8, 30, 11, 31, 4, 15, 10, 15, 2, 28, 9, 26, 6, 33]\n",
      "[10, 28, 5, 37, 12, 29, 1, 31, 7, 25, 8, 13, 14, 14, 4, 20, 3, 27, 9, 25, 13, 31, 11, 14, 6, 25, 2, 39, 0, 36]\n",
      "[0, 22, 11, 25, 5, 28, 13, 35, 4, 31, 8, 21, 9, 20, 14, 19, 2, 29, 7, 32, 10, 18, 1, 18, 3, 11, 12, 17, 6, 15]\n",
      "[12, 39, 5, 32, 2, 36, 8, 14, 3, 28, 13, 37, 0, 38, 6, 20, 7, 19, 11, 12, 14, 22, 1, 36, 4, 15, 9, 32, 10, 16]\n",
      "[8, 28, 1, 29, 14, 40, 12, 23, 4, 34, 5, 33, 6, 27, 10, 17, 0, 20, 7, 28, 11, 21, 2, 21, 13, 20, 9, 33, 3, 27]\n",
      "[9, 21, 14, 34, 3, 30, 12, 38, 0, 11, 11, 16, 2, 14, 5, 14, 1, 34, 8, 33, 4, 23, 13, 40, 10, 12, 6, 23, 7, 27]\n",
      "[9, 13, 14, 40, 7, 36, 4, 17, 0, 13, 5, 33, 8, 25, 13, 24, 10, 23, 3, 36, 2, 29, 1, 18, 11, 13, 6, 33, 12, 13]\n",
      "[3, 25, 5, 15, 2, 28, 12, 40, 7, 39, 1, 31, 8, 35, 6, 31, 11, 36, 4, 12, 10, 33, 14, 19, 9, 16, 13, 27, 0, 21]\n",
      "[12, 22, 10, 14, 0, 12, 2, 20, 5, 12, 1, 18, 11, 17, 8, 39, 14, 31, 3, 31, 7, 32, 9, 20, 13, 29, 4, 13, 6, 26]\n",
      "[5, 18, 10, 30, 7, 38, 14, 22, 13, 15, 11, 20, 9, 16, 3, 17, 1, 12, 2, 13, 12, 40, 6, 17, 8, 30, 4, 38, 0, 13]\n",
      "[9, 31, 8, 39, 12, 27, 1, 14, 5, 33, 3, 31, 11, 22, 13, 36, 0, 16, 7, 11, 14, 14, 4, 29, 6, 28, 2, 22, 10, 17]\n",
      "------\n",
      "instance: ft06\n",
      "Number of jobs: 6\n",
      "Number of machines: 6\n",
      "Time matrix:\n",
      "[2, 1, 0, 3, 1, 6, 3, 7, 5, 3, 4, 6]\n",
      "[1, 8, 2, 5, 4, 10, 5, 10, 0, 10, 3, 4]\n",
      "[2, 5, 3, 4, 5, 8, 0, 9, 1, 1, 4, 7]\n",
      "[1, 5, 0, 5, 2, 5, 3, 3, 4, 8, 5, 9]\n",
      "[2, 9, 1, 3, 4, 5, 5, 4, 0, 3, 3, 1]\n",
      "[1, 3, 3, 3, 5, 9, 0, 10, 4, 4, 2, 1]\n",
      "------\n"
     ]
    }
   ],
   "source": [
    "file_path = \"data/jobshop1.txt\"  \n",
    "\n",
    "#Three instances with differences in jobs and machines are selected for testing in different populations\n",
    "instances_to_extract = [\"ft06\", \"abz5\", \"abz7\"]\n",
    "\n",
    "instances = extract_instances_to_dict(file_path, instances_to_extract)\n",
    "\n",
    "# Check\n",
    "if not instances:\n",
    "    print(\"No instances were extracted. Check the names in instances_to_extract and the source file.\")\n",
    "else:\n",
    "    for instance_name, instance_data in instances.items():\n",
    "        print(f\"instance: {instance_name}\")\n",
    "        print(f\"Number of jobs: {instance_data['num_jobs']}\")\n",
    "        print(f\"Number of machines: {instance_data['num_machines']}\")\n",
    "        print(\"Time matrix:\")\n",
    "        for row in instance_data[\"processing_times\"]:\n",
    "            print(row)\n",
    "        print(\"------\")"
   ]
  },
  {
   "cell_type": "code",
   "execution_count": 3,
   "metadata": {},
   "outputs": [],
   "source": [
    "ft06_data = instances[\"ft06\"]\n",
    "abz5_data = instances[\"abz5\"]"
   ]
  },
  {
   "cell_type": "code",
   "execution_count": 4,
   "metadata": {},
   "outputs": [
    {
     "data": {
      "text/plain": [
       "{'num_jobs': 6,\n",
       " 'num_machines': 6,\n",
       " 'processing_times': [[2, 1, 0, 3, 1, 6, 3, 7, 5, 3, 4, 6],\n",
       "  [1, 8, 2, 5, 4, 10, 5, 10, 0, 10, 3, 4],\n",
       "  [2, 5, 3, 4, 5, 8, 0, 9, 1, 1, 4, 7],\n",
       "  [1, 5, 0, 5, 2, 5, 3, 3, 4, 8, 5, 9],\n",
       "  [2, 9, 1, 3, 4, 5, 5, 4, 0, 3, 3, 1],\n",
       "  [1, 3, 3, 3, 5, 9, 0, 10, 4, 4, 2, 1]]}"
      ]
     },
     "execution_count": 4,
     "metadata": {},
     "output_type": "execute_result"
    }
   ],
   "source": [
    "ft06_data"
   ]
  },
  {
   "cell_type": "code",
   "execution_count": null,
   "metadata": {},
   "outputs": [],
   "source": []
  }
 ],
 "metadata": {
  "kernelspec": {
   "display_name": "base",
   "language": "python",
   "name": "python3"
  },
  "language_info": {
   "codemirror_mode": {
    "name": "ipython",
    "version": 3
   },
   "file_extension": ".py",
   "mimetype": "text/x-python",
   "name": "python",
   "nbconvert_exporter": "python",
   "pygments_lexer": "ipython3",
   "version": "3.8.8"
  }
 },
 "nbformat": 4,
 "nbformat_minor": 2
}
